{
  "metadata": {
    "language_info": {
      "codemirror_mode": {
        "name": "python",
        "version": 3
      },
      "file_extension": ".py",
      "mimetype": "text/x-python",
      "name": "python",
      "nbconvert_exporter": "python",
      "pygments_lexer": "ipython3",
      "version": "3.8"
    },
    "kernelspec": {
      "name": "python",
      "display_name": "Python (Pyodide)",
      "language": "python"
    }
  },
  "nbformat_minor": 4,
  "nbformat": 4,
  "cells": [
    {
      "cell_type": "markdown",
      "source": "Fast Fourier Transform\nAka the one about sound waves with complex numbers.\nNumber stations from ww2 make more sense than this.\n\nhttps://en.wikipedia.org/wiki/Numbers_station\n\nvery intersting subject, probably still used to this day.",
      "metadata": {}
    }
  ]
}