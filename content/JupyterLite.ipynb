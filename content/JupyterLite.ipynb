{
  "metadata": {
    "language_info": {
      "codemirror_mode": {
        "name": "python",
        "version": 3
      },
      "file_extension": ".py",
      "mimetype": "text/x-python",
      "name": "python",
      "nbconvert_exporter": "python",
      "pygments_lexer": "ipython3",
      "version": "3.8"
    },
    "kernelspec": {
      "name": "python",
      "display_name": "Python (Pyodide)",
      "language": "python"
    }
  },
  "nbformat_minor": 4,
  "nbformat": 4,
  "cells": [
    {
      "cell_type": "markdown",
      "source": "For this moudle I will be using Juypter Lite as well as GitHubPages",
      "metadata": {}
    },
    {
      "cell_type": "markdown",
      "source": "Some usefull links to keep in mind when doing these notebooks.",
      "metadata": {}
    },
    {
      "cell_type": "markdown",
      "source": "Site:\nhttps://jupyterlite.readthedocs.io/en/latest/_static/lab/\n\nDemo for Juypter Lite:\nhttps://github.com/jupyterlite/demo",
      "metadata": {}
    },
    {
      "cell_type": "markdown",
      "source": "To-Do\n1.Create your own repository from the JupyterLite Demo template repository. (done)\n2.Serve the repository using GitHub Pages/Actions. (done)\n3.Submit the repository URL using the assessment submission form on the Moodle page.(done)\n4.Change the README to reflect what the repository will contain - your assessment submission.(done)\n5.Comment all files. (done)\n6.Remove any unecessary files. (done)\n7.Make sure your website compiles and is available. (done)",
      "metadata": {}
    }
  ]
}