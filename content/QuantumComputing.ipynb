{
  "metadata": {
    "language_info": {
      "codemirror_mode": {
        "name": "python",
        "version": 3
      },
      "file_extension": ".py",
      "mimetype": "text/x-python",
      "name": "python",
      "nbconvert_exporter": "python",
      "pygments_lexer": "ipython3",
      "version": "3.8"
    },
    "kernelspec": {
      "name": "python",
      "display_name": "Python (Pyodide)",
      "language": "python"
    }
  },
  "nbformat_minor": 4,
  "nbformat": 4,
  "cells": [
    {
      "cell_type": "markdown",
      "source": "Quantum Computing",
      "metadata": {}
    },
    {
      "cell_type": "markdown",
      "source": "I found an intersting quote about fliiping coins.\n\"Flip a coin enough times, and chaos dictates it must eventually land on it’s side\"\n\nOf course I'm not sure how relevant that as to quantum computing, but it sounds like it is.\n",
      "metadata": {}
    }
  ]
}